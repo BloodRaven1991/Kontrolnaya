{
 "cells": [
  {
   "cell_type": "markdown",
   "metadata": {},
   "source": [
    "Задание 1: Работа с ветвлениями, циклами, исключениями\n",
    "Создайте программу, которая:\n",
    "1. Запрашивает у пользователя список чисел, разделённых пробелом.\n",
    "2. Проверяет, чтобы введённые данные не содержали ошибок (например, букв, \n",
    "символов и т.д.). Если есть ошибка, выводит ошибку «Список должен состоять \n",
    "только из чисел» и запрашивает повторный ввод.\n",
    "3. Выводит:\n",
    "o Сумму всех чисел.\n",
    "o Количество положительных и отрицательных чисел.\n",
    "o Наименьшее и наибольшее число в списке.\n",
    "o Среднее значение чисел в списке.\n"
   ]
  },
  {
   "cell_type": "code",
   "execution_count": 2,
   "metadata": {},
   "outputs": [
    {
     "name": "stdout",
     "output_type": "stream",
     "text": [
      "Сумма всех чисел: 10.0\n",
      "Количество положительных чисел: 7\n",
      "Количество отрицательных чисел: 4\n",
      "Наименьшее число: -11.0\n",
      "Наибольшее число: 12.0\n",
      "Среднее значение: 0.9090909090909091\n"
     ]
    }
   ],
   "source": [
    "def get_number_list():\n",
    "    while True:\n",
    "        user_input = input(\"Введите список чисел, разделённых пробелом: \")\n",
    "        try:\n",
    "            numbers = list(map(float, user_input.split()))\n",
    "            return numbers\n",
    "        except ValueError:\n",
    "            print(\"Список должен состоять только из чисел. Повторите ввод.\")\n",
    "\n",
    "def main():\n",
    "    numbers = get_number_list()\n",
    "\n",
    "    summ = sum(numbers)\n",
    "    naibolshee = len([num for num in numbers if num > 0])\n",
    "    naimenshee = len([num for num in numbers if num < 0])\n",
    "    min_number = min(numbers)\n",
    "    max_number = max(numbers)\n",
    "    srednee = summ / len(numbers) if numbers else 0\n",
    "\n",
    "    print(f\"Сумма всех чисел: {summ}\")\n",
    "    print(f\"Количество положительных чисел: {naibolshee}\")\n",
    "    print(f\"Количество отрицательных чисел: {naimenshee}\")\n",
    "    print(f\"Наименьшее число: {min_number}\")\n",
    "    print(f\"Наибольшее число: {max_number}\")\n",
    "    print(f\"Среднее значение: {srednee}\")\n",
    "\n",
    "if __name__ == \"__main__\":\n",
    "    main()"
   ]
  },
  {
   "cell_type": "markdown",
   "metadata": {},
   "source": [
    "Задание 2: Строки, списки, функции\n",
    "Напишите функцию process_string(text: str) -> dict, которая:\n",
    "1. Принимает строку и возвращает словарь с:\n",
    "o Количеством слов в строке.\n",
    "o Количеством уникальных слов.\n",
    "o Самым длинным словом.\n",
    "2. Напишите основной код, который:\n",
    "o Считывает строку из файла input.txt.\n",
    "o Вызывает функцию и записывает результат в файл output.txt в виде:\n",
    "Слов: 10 \n",
    "Уникальных слов: 8 \n",
    "Самое длинное слово: \"программирование\" "
   ]
  },
  {
   "cell_type": "code",
   "execution_count": 4,
   "metadata": {},
   "outputs": [],
   "source": [
    "def process_string(text: str) -> dict:\n",
    "    tekst = text.split()\n",
    "    \n",
    "    text_1 = len(tekst)\n",
    "    \n",
    "    unik = set(tekst)\n",
    "    unikalniy = len(unik)\n",
    "    \n",
    "    long = max(tekst, key=len) if tekst else \"\"\n",
    "    \n",
    "    return {\n",
    "        'text_1': text_1,\n",
    "        'unikalniy': unikalniy,\n",
    "        'long': long\n",
    "    }\n",
    "\n",
    "def main():\n",
    "    with open('input.txt', 'r', encoding='utf-8') as infile:\n",
    "        text = infile.read()\n",
    "    \n",
    "    result = process_string(text)\n",
    "\n",
    "    with open('output.txt', 'w', encoding='utf-8') as outfile:\n",
    "        outfile.write(f\"Слов: {result['text_1']}\\n\")\n",
    "        outfile.write(f\"Уникальных слов: {result['unikalniy']}\\n\")\n",
    "        outfile.write(f\"Самое длинное слово: \\\"{result['long']}\\\"\\n\")\n",
    "\n",
    "if __name__ == \"__main__\":\n",
    "    main()"
   ]
  },
  {
   "cell_type": "markdown",
   "metadata": {},
   "source": [
    "Задание 3: Сортировка, поиск, работа с коллекциями\n",
    "Напишите программу, которая:\n",
    "1. Создаёт случайный список из 20 чисел от -100 до 100.\n",
    "2. Сортирует его по возрастанию, используя сортировку пузырьком.\n",
    "3. Находит в списке число, введённое пользователем (если число не найдено, выводит \n",
    "сообщение об этом).\n",
    "4. Выводит отсортированный список и индекс найденного числа.\n"
   ]
  },
  {
   "cell_type": "code",
   "execution_count": 80,
   "metadata": {},
   "outputs": [
    {
     "name": "stdout",
     "output_type": "stream",
     "text": [
      "Исходный список: [-25, -4, -94, -14, -71, -83, -66, 17, 29, -84, -3, 33, -95, 96, 99, -4, 42, 29, 27, 20]\n",
      "Отсортированный список: [-95, -94, -84, -83, -71, -66, -25, -14, -4, -4, -3, 17, 20, 27, 29, 29, 33, 42, 96, 99]\n",
      "Число не найдено.\n",
      "Число не найдено.\n"
     ]
    }
   ],
   "source": [
    "from random import randint\n",
    "\n",
    "numbers = []\n",
    "for i in range(20):\n",
    "    numbers.append(randint(-100, 100))\n",
    "\n",
    "def bubble_sort_optimized(numbers):\n",
    "    n = len(numbers)\n",
    "    for i in range(n):\n",
    "        swapped = False\n",
    "        for j in range(0, n - i - 1):\n",
    "            if numbers[j] > numbers[j + 1]:\n",
    "                numbers[j], numbers[j + 1] = numbers[j + 1], numbers[j]\n",
    "                swapped = True\n",
    "        if not swapped:\n",
    "            break\n",
    "\n",
    "\n",
    "if __name__ == \"__main__\":\n",
    "    print(\"Исходный список:\", numbers)\n",
    "    \n",
    "    bubble_sort_optimized(numbers)\n",
    "    print(\"Отсортированный список:\", numbers)\n",
    "\n",
    "\n",
    "user_input = input(\"Введите число.\")\n",
    "if 'user_input' in numbers:\n",
    "    print(user_input)\n",
    "else:\n",
    "    print(\"Число не найдено.\")\n",
    "\n",
    "if user_input in numbers:\n",
    "    index = numbers.index(user_input)\n",
    "    print(index)\n",
    "else:\n",
    "    print(\"Число не найдено.\")"
   ]
  },
  {
   "cell_type": "markdown",
   "metadata": {},
   "source": [
    "Задание 4: ООП, кортежи, множества, словари\n",
    "Создайте класс Student, который:\n",
    "1. Имеет атрибуты name (имя студента), scores (список оценок).\n",
    "2. Имеет методы:\n",
    "o add_score(score): добавляет оценку.\n",
    "o average_score(): возвращает средний балл.\n",
    "o get_report(): возвращает словарь с именем, средним баллом и уникальными \n",
    "оценками (в виде множества).\n",
    "3. Напишите код для работы с классом:\n",
    "o Создайте список из 5 студентов с разными именами и оценками.\n",
    "o Выведите отчёты для всех студентов."
   ]
  },
  {
   "cell_type": "code",
   "execution_count": 3,
   "metadata": {},
   "outputs": [],
   "source": [
    "class Student:\n",
    "    def __init__(self, name, scores):\n",
    "        self._name = name\n",
    "        self._scores = scores\n",
    "\n",
    "    def get_info(self):\n",
    "        return f\"{self._name} {self._scores}\"\n",
    "    \n",
    "    def add_score(self, score):\n",
    "        self._score.append(score)"
   ]
  },
  {
   "cell_type": "markdown",
   "metadata": {},
   "source": [
    "Задание 5: Структуры данных, работа с файлами (20 баллов)\n",
    "Напишите программу, которая:\n",
    "1. Читает файл students.txt, где каждая строка содержит имя студента и его баллы \n",
    "через запятую (например, Илья,4,5,3,5) (как минимум 5 строк, сами придумайте \n",
    "имена и оценки).\n",
    "2. Сохраняет данные в словарь, где ключ – имя студента, а значение – список его \n",
    "баллов.\n",
    "3. Находит студента с наивысшим средним баллом.\n",
    "4. Записывает результат в файл top_student.txt в виде (и заодно выводит эту же \n",
    "информацию на экран):\n",
    "Лучший студент: Илья \n",
    "Средний балл: 4.25"
   ]
  },
  {
   "cell_type": "code",
   "execution_count": null,
   "metadata": {},
   "outputs": [],
   "source": []
  }
 ],
 "metadata": {
  "kernelspec": {
   "display_name": "Python 3",
   "language": "python",
   "name": "python3"
  },
  "language_info": {
   "codemirror_mode": {
    "name": "ipython",
    "version": 3
   },
   "file_extension": ".py",
   "mimetype": "text/x-python",
   "name": "python",
   "nbconvert_exporter": "python",
   "pygments_lexer": "ipython3",
   "version": "3.12.7"
  }
 },
 "nbformat": 4,
 "nbformat_minor": 2
}
